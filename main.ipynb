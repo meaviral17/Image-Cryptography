{
 "cells": [
  {
   "cell_type": "markdown",
   "metadata": {},
   "source": [
    "## Triple Chaos Encryption"
   ]
  },
  {
   "cell_type": "code",
   "execution_count": 1,
   "metadata": {},
   "outputs": [],
   "source": [
    "import os\n",
    "import numpy as np\n",
    "import cv2\n",
    "from PIL import Image\n",
    "import matplotlib.pyplot as plt\n",
    "import random\n",
    "from math import log"
   ]
  },
  {
   "cell_type": "markdown",
   "metadata": {},
   "source": [
    "Create an output folder to store the results"
   ]
  },
  {
   "cell_type": "code",
   "execution_count": 2,
   "metadata": {},
   "outputs": [],
   "source": [
    "os.makedirs(\"outputs\", exist_ok=True)"
   ]
  },
  {
   "cell_type": "markdown",
   "metadata": {},
   "source": [
    "### Image IO and Plotting Utils"
   ]
  },
  {
   "cell_type": "markdown",
   "metadata": {},
   "source": [
    "To Load an image from disk as a NumPy array.\n",
    "- mode='color' => shape (H, W, 3)\n",
    "- mode='gray'  => shape (H, W)"
   ]
  },
  {
   "cell_type": "code",
   "execution_count": 3,
   "metadata": {},
   "outputs": [],
   "source": [
    "def load_image(image_path, mode='color'):\n",
    "    if mode == 'gray':\n",
    "        pil_img = Image.open(image_path).convert('L')\n",
    "        return np.array(pil_img)\n",
    "    else:\n",
    "        pil_img = Image.open(image_path).convert('RGB')\n",
    "        return np.array(pil_img)"
   ]
  },
  {
   "cell_type": "markdown",
   "metadata": {},
   "source": [
    "To save a NumPy array to disk as a PNG"
   ]
  },
  {
   "cell_type": "code",
   "execution_count": 4,
   "metadata": {},
   "outputs": [],
   "source": [
    "def save_image(img_array, out_path):\n",
    "    if len(img_array.shape) == 2:\n",
    "        out_img = Image.fromarray(img_array.astype('uint8'), 'L')\n",
    "    else:\n",
    "        out_img = Image.fromarray(img_array.astype('uint8'), 'RGB')\n",
    "    out_img.save(out_path)\n",
    "    print(f\"Saved: {out_path}\")"
   ]
  },
  {
   "cell_type": "markdown",
   "metadata": {},
   "source": [
    "To Display the image and optionally save to 'save_path'."
   ]
  },
  {
   "cell_type": "code",
   "execution_count": 5,
   "metadata": {},
   "outputs": [],
   "source": [
    "def show_and_save_image(img_array, title=\"Image\", save_path=None):\n",
    "    plt.figure(figsize=(5,5))\n",
    "    if len(img_array.shape) == 2:\n",
    "        plt.imshow(img_array, cmap='gray', vmin=0, vmax=255)\n",
    "    else:\n",
    "        plt.imshow(img_array)\n",
    "    plt.title(title)\n",
    "    plt.axis('off')\n",
    "    if save_path:\n",
    "        plt.savefig(save_path, bbox_inches='tight')\n",
    "    plt.show()\n",
    "    plt.close()"
   ]
  },
  {
   "cell_type": "markdown",
   "metadata": {},
   "source": [
    "To Plot and show the histogram of an image, optionally saves to 'save_path'."
   ]
  },
  {
   "cell_type": "code",
   "execution_count": 6,
   "metadata": {},
   "outputs": [],
   "source": [
    "def show_and_save_histogram(img_array, title=\"Histogram\", save_path=None):\n",
    "    plt.figure()\n",
    "    if len(img_array.shape) == 2:\n",
    "        plt.hist(img_array.ravel(), bins=256, range=(0,255), color='gray')\n",
    "    else:\n",
    "        colors = ('b','g','r')\n",
    "        for i, c in enumerate(colors):\n",
    "            hist = cv2.calcHist([img_array.astype('uint8')],[i],None,[256],[0,256])\n",
    "            plt.plot(hist, color=c)\n",
    "    plt.title(title)\n",
    "    plt.xlabel(\"Pixel Value\")\n",
    "    plt.ylabel(\"Frequency\")\n",
    "    if save_path:\n",
    "        plt.savefig(save_path, bbox_inches='tight')\n",
    "    plt.show()\n",
    "    plt.close()"
   ]
  },
  {
   "cell_type": "markdown",
   "metadata": {},
   "source": [
    "To Plot horizontally adjacent pixel correlation, optionally saves to file."
   ]
  },
  {
   "cell_type": "code",
   "execution_count": 8,
   "metadata": {},
   "outputs": [],
   "source": [
    "def show_and_save_correlation(img_array, sample_size=1024, title=\"Correlation\", save_path=None):\n",
    "    \n",
    "    if len(img_array.shape) == 3:\n",
    "        gray = cv2.cvtColor(img_array.astype('uint8'), cv2.COLOR_RGB2GRAY)\n",
    "    else:\n",
    "        gray = img_array\n",
    "    h, w = gray.shape\n",
    "    samples_x = []\n",
    "    samples_y = []\n",
    "    for _ in range(sample_size):\n",
    "        r = random.randint(0, h-1)\n",
    "        c = random.randint(0, w-2)\n",
    "        px1 = gray[r, c]\n",
    "        px2 = gray[r, c+1]\n",
    "        samples_x.append(px1)\n",
    "        samples_y.append(px2)\n",
    "    plt.figure()\n",
    "    plt.scatter(samples_x, samples_y, s=2)\n",
    "    \n",
    "    plt.title(title)\n",
    "    plt.xlabel(\"Pixel (r,c)\")\n",
    "    plt.ylabel(\"Pixel (r,c+1)\")\n",
    "    if save_path:\n",
    "        plt.savefig(save_path, bbox_inches='tight')\n",
    "    plt.show()\n",
    "    plt.close()"
   ]
  },
  {
   "cell_type": "markdown",
   "metadata": {},
   "source": [
    "# Chaos Map Functions"
   ]
  },
  {
   "cell_type": "markdown",
   "metadata": {},
   "source": [
    "### Arnold's Cat Map"
   ]
  },
  {
   "cell_type": "markdown",
   "metadata": {},
   "source": [
    "One iteration of Arnold's Cat:  \n",
    "&ensp;&ensp;&ensp;&ensp;x', y' = ((x + y) mod n), ((x + 2*y) mod n)"
   ]
  },
  {
   "cell_type": "code",
   "execution_count": 10,
   "metadata": {},
   "outputs": [],
   "source": [
    "def arnold_cat_transform(img):\n",
    "    n = img.shape[0]\n",
    "    transformed = np.zeros_like(img)\n",
    "    for x in range(n):\n",
    "        for y in range(n):\n",
    "            new_x = (x + y) % n\n",
    "            new_y = (x + 2*y) % n\n",
    "            transformed[new_x, new_y] = img[x, y]\n",
    "    return transformed"
   ]
  },
  {
   "cell_type": "markdown",
   "metadata": {},
   "source": [
    "Applying Arnold's Cat transform 'iterations' times."
   ]
  },
  {
   "cell_type": "code",
   "execution_count": 11,
   "metadata": {},
   "outputs": [],
   "source": [
    "def arnold_cat_encrypt(img_array, iterations):\n",
    "    h, w = img_array.shape[:2]\n",
    "    if h != w:\n",
    "        raise ValueError(\"Arnold's Cat requires a square image!\")\n",
    "    result = img_array.copy()\n",
    "    for _ in range(iterations):\n",
    "        result = arnold_cat_transform(result)\n",
    "    return result"
   ]
  },
  {
   "cell_type": "markdown",
   "metadata": {},
   "source": [
    "Estimate period for n x n image returning to original under Arnold's Cat."
   ]
  },
  {
   "cell_type": "code",
   "execution_count": 12,
   "metadata": {},
   "outputs": [],
   "source": [
    "def arnold_cat_period(n):\n",
    "    if (n % 2 == 0) and 5**int(round(log(n/2,5))) == int(n/2):\n",
    "        return 3*n\n",
    "    elif 5**int(round(log(n,5))) == int(n):\n",
    "        return 2*n\n",
    "    elif (n % 6 == 0) and 5**int(round(log(n/6,5))) == int(n/6):\n",
    "        return 2*n\n",
    "    else:\n",
    "        return int(12*n/7)"
   ]
  },
  {
   "cell_type": "markdown",
   "metadata": {},
   "source": [
    "Decrypt by continuing from 'iterations' to full period."
   ]
  },
  {
   "cell_type": "code",
   "execution_count": 13,
   "metadata": {},
   "outputs": [],
   "source": [
    "def arnold_cat_decrypt(img_array, iterations):\n",
    "    n = img_array.shape[0]\n",
    "    per = arnold_cat_period(n)\n",
    "    result = img_array.copy()\n",
    "    for i in range(iterations, per):\n",
    "        result = arnold_cat_transform(result)\n",
    "    return result"
   ]
  },
  {
   "cell_type": "markdown",
   "metadata": {},
   "source": [
    "### Henon Map (XOR based)"
   ]
  },
  {
   "cell_type": "markdown",
   "metadata": {},
   "source": [
    "To Convert a list of bits (0/1) into a list of bytes [0..255]"
   ]
  },
  {
   "cell_type": "code",
   "execution_count": 14,
   "metadata": {},
   "outputs": [],
   "source": [
    "def bits_to_bytes(bits):\n",
    "    assert len(bits) % 8 == 0\n",
    "    out = []\n",
    "    for i in range(0, len(bits), 8):\n",
    "        val = 0\n",
    "        for b in bits[i:i+8]:\n",
    "            val = (val << 1) | b\n",
    "        out.append(val)\n",
    "    return out"
   ]
  },
  {
   "cell_type": "markdown",
   "metadata": {},
   "source": [
    "Generate 'num_bits' bits from Henon map."
   ]
  },
  {
   "cell_type": "code",
   "execution_count": 15,
   "metadata": {},
   "outputs": [],
   "source": [
    "def henon_map_sequence(num_bits, x0=0.1, y0=0.1, a=1.4, b=0.3):\n",
    "    x = x0\n",
    "    y = y0\n",
    "    bits = []\n",
    "    for _ in range(num_bits):\n",
    "        x_next = y + 1 - a*(x**2)\n",
    "        y_next = b*x\n",
    "        x, y = x_next, y_next\n",
    "        bits.append(0 if x <= 0.4 else 1)\n",
    "    return bits"
   ]
  },
  {
   "cell_type": "markdown",
   "metadata": {},
   "source": [
    "XOR each pixel with Henon-based pseudorandom bytes."
   ]
  },
  {
   "cell_type": "code",
   "execution_count": 16,
   "metadata": {},
   "outputs": [],
   "source": [
    "def henon_encrypt(img_array, x0=0.1, y0=0.1):\n",
    "    shape = img_array.shape\n",
    "    if len(shape) == 2:\n",
    "        h, w = shape\n",
    "        c = 1\n",
    "    else:\n",
    "        h, w, c = shape\n",
    "\n",
    "    total_pixels = h*w\n",
    "    needed_bytes = total_pixels*c\n",
    "    needed_bits = needed_bytes*8\n",
    "\n",
    "    henon_bits = henon_map_sequence(needed_bits, x0, y0)\n",
    "    henon_stream = bits_to_bytes(henon_bits)\n",
    "\n",
    "    encrypted = np.zeros_like(img_array)\n",
    "    idx = 0\n",
    "    for r in range(h):\n",
    "        for cc in range(w):\n",
    "            if c == 1:\n",
    "                px = img_array[r, cc]\n",
    "                encrypted[r, cc] = px ^ henon_stream[idx]\n",
    "                idx += 1\n",
    "            else:\n",
    "                px_r, px_g, px_b = img_array[r, cc]\n",
    "                encrypted[r, cc, 0] = px_r ^ henon_stream[idx]\n",
    "                encrypted[r, cc, 1] = px_g ^ henon_stream[idx+1]\n",
    "                encrypted[r, cc, 2] = px_b ^ henon_stream[idx+2]\n",
    "                idx += 3\n",
    "    return encrypted"
   ]
  },
  {
   "cell_type": "code",
   "execution_count": 17,
   "metadata": {},
   "outputs": [],
   "source": [
    "def henon_decrypt(img_array, x0=0.1, y0=0.1):\n",
    "    return henon_encrypt(img_array, x0, y0)"
   ]
  },
  {
   "cell_type": "markdown",
   "metadata": {},
   "source": [
    "### Logistic Map (XOR-based)"
   ]
  },
  {
   "cell_type": "markdown",
   "metadata": {},
   "source": [
    "Generate 'num_values' bytes from logistic map x_{n+1} = r*x_n*(1 - x_n)."
   ]
  },
  {
   "cell_type": "code",
   "execution_count": 18,
   "metadata": {},
   "outputs": [],
   "source": [
    "def logistic_map_sequence(num_values, r=3.99, seed=0.12345):\n",
    "    x = seed\n",
    "    out_bytes = []\n",
    "    for _ in range(num_values):\n",
    "        x = r*x*(1 - x)\n",
    "        out_bytes.append(int((x*1e6) % 256))\n",
    "    return out_bytes"
   ]
  },
  {
   "cell_type": "markdown",
   "metadata": {},
   "source": [
    "XOR each pixel with logistic-based pseudorandom bytes."
   ]
  },
  {
   "cell_type": "code",
   "execution_count": 19,
   "metadata": {},
   "outputs": [],
   "source": [
    "def logistic_encrypt(img_array, r=3.99, seed=0.12345):\n",
    "    shape = img_array.shape\n",
    "    if len(shape) == 2:\n",
    "        h, w = shape\n",
    "        c = 1\n",
    "    else:\n",
    "        h, w, c = shape\n",
    "\n",
    "    total_pixels = h*w\n",
    "    needed_bytes = total_pixels*c\n",
    "    chaos_stream = logistic_map_sequence(needed_bytes, r, seed)\n",
    "\n",
    "    encrypted = np.zeros_like(img_array)\n",
    "    idx = 0\n",
    "    for row in range(h):\n",
    "        for col in range(w):\n",
    "            if c == 1:\n",
    "                px = img_array[row, col]\n",
    "                encrypted[row, col] = px ^ chaos_stream[idx]\n",
    "                idx += 1\n",
    "            else:\n",
    "                px_r, px_g, px_b = img_array[row, col]\n",
    "                encrypted[row, col, 0] = px_r ^ chaos_stream[idx]\n",
    "                encrypted[row, col, 1] = px_g ^ chaos_stream[idx+1]\n",
    "                encrypted[row, col, 2] = px_b ^ chaos_stream[idx+2]\n",
    "                idx += 3\n",
    "    return encrypted\n"
   ]
  },
  {
   "cell_type": "code",
   "execution_count": 20,
   "metadata": {},
   "outputs": [],
   "source": [
    "def logistic_decrypt(img_array, r=3.99, seed=0.12345):\n",
    "    return logistic_encrypt(img_array, r, seed)"
   ]
  },
  {
   "cell_type": "code",
   "execution_count": null,
   "metadata": {},
   "outputs": [],
   "source": []
  }
 ],
 "metadata": {
  "kernelspec": {
   "display_name": "base",
   "language": "python",
   "name": "python3"
  },
  "language_info": {
   "codemirror_mode": {
    "name": "ipython",
    "version": 3
   },
   "file_extension": ".py",
   "mimetype": "text/x-python",
   "name": "python",
   "nbconvert_exporter": "python",
   "pygments_lexer": "ipython3",
   "version": "3.12.7"
  }
 },
 "nbformat": 4,
 "nbformat_minor": 2
}
