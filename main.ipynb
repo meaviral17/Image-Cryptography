{
 "cells": [
  {
   "cell_type": "markdown",
   "metadata": {},
   "source": [
    "## Triple Chaos Encryption"
   ]
  },
  {
   "cell_type": "code",
   "execution_count": 1,
   "metadata": {},
   "outputs": [],
   "source": [
    "import os\n",
    "import numpy as np\n",
    "import cv2\n",
    "from PIL import Image\n",
    "import matplotlib.pyplot as plt\n",
    "import random\n",
    "from math import log"
   ]
  },
  {
   "cell_type": "markdown",
   "metadata": {},
   "source": [
    "Create an output folder to store the results"
   ]
  },
  {
   "cell_type": "code",
   "execution_count": 2,
   "metadata": {},
   "outputs": [],
   "source": [
    "os.makedirs(\"outputs\", exist_ok=True)"
   ]
  },
  {
   "cell_type": "markdown",
   "metadata": {},
   "source": [
    "### Image IO and Plotting Utils"
   ]
  },
  {
   "cell_type": "markdown",
   "metadata": {},
   "source": [
    "To Load an image from disk as a NumPy array.\n",
    "- mode='color' => shape (H, W, 3)\n",
    "- mode='gray'  => shape (H, W)"
   ]
  },
  {
   "cell_type": "code",
   "execution_count": 3,
   "metadata": {},
   "outputs": [],
   "source": [
    "def load_image(image_path, mode='color'):\n",
    "    if mode == 'gray':\n",
    "        pil_img = Image.open(image_path).convert('L')\n",
    "        return np.array(pil_img)\n",
    "    else:\n",
    "        pil_img = Image.open(image_path).convert('RGB')\n",
    "        return np.array(pil_img)"
   ]
  },
  {
   "cell_type": "markdown",
   "metadata": {},
   "source": [
    "To save a NumPy array to disk as a PNG"
   ]
  },
  {
   "cell_type": "code",
   "execution_count": 4,
   "metadata": {},
   "outputs": [],
   "source": [
    "def save_image(img_array, out_path):\n",
    "    if len(img_array.shape) == 2:\n",
    "        out_img = Image.fromarray(img_array.astype('uint8'), 'L')\n",
    "    else:\n",
    "        out_img = Image.fromarray(img_array.astype('uint8'), 'RGB')\n",
    "    out_img.save(out_path)\n",
    "    print(f\"Saved: {out_path}\")"
   ]
  },
  {
   "cell_type": "markdown",
   "metadata": {},
   "source": [
    "To Display the image and optionally save to 'save_path'."
   ]
  },
  {
   "cell_type": "code",
   "execution_count": 5,
   "metadata": {},
   "outputs": [],
   "source": [
    "def show_and_save_image(img_array, title=\"Image\", save_path=None):\n",
    "    plt.figure(figsize=(5,5))\n",
    "    if len(img_array.shape) == 2:\n",
    "        plt.imshow(img_array, cmap='gray', vmin=0, vmax=255)\n",
    "    else:\n",
    "        plt.imshow(img_array)\n",
    "    plt.title(title)\n",
    "    plt.axis('off')\n",
    "    if save_path:\n",
    "        plt.savefig(save_path, bbox_inches='tight')\n",
    "    plt.show()\n",
    "    plt.close()"
   ]
  },
  {
   "cell_type": "markdown",
   "metadata": {},
   "source": [
    "To Plot and show the histogram of an image, optionally saves to 'save_path'."
   ]
  },
  {
   "cell_type": "code",
   "execution_count": 6,
   "metadata": {},
   "outputs": [],
   "source": [
    "def show_and_save_histogram(img_array, title=\"Histogram\", save_path=None):\n",
    "    plt.figure()\n",
    "    if len(img_array.shape) == 2:\n",
    "        plt.hist(img_array.ravel(), bins=256, range=(0,255), color='gray')\n",
    "    else:\n",
    "        colors = ('b','g','r')\n",
    "        for i, c in enumerate(colors):\n",
    "            hist = cv2.calcHist([img_array.astype('uint8')],[i],None,[256],[0,256])\n",
    "            plt.plot(hist, color=c)\n",
    "    plt.title(title)\n",
    "    plt.xlabel(\"Pixel Value\")\n",
    "    plt.ylabel(\"Frequency\")\n",
    "    if save_path:\n",
    "        plt.savefig(save_path, bbox_inches='tight')\n",
    "    plt.show()\n",
    "    plt.close()"
   ]
  },
  {
   "cell_type": "markdown",
   "metadata": {},
   "source": [
    "To Plot horizontally adjacent pixel correlation, optionally saves to file."
   ]
  },
  {
   "cell_type": "code",
   "execution_count": 8,
   "metadata": {},
   "outputs": [],
   "source": [
    "def show_and_save_correlation(img_array, sample_size=1024, title=\"Correlation\", save_path=None):\n",
    "    \n",
    "    if len(img_array.shape) == 3:\n",
    "        gray = cv2.cvtColor(img_array.astype('uint8'), cv2.COLOR_RGB2GRAY)\n",
    "    else:\n",
    "        gray = img_array\n",
    "    h, w = gray.shape\n",
    "    samples_x = []\n",
    "    samples_y = []\n",
    "    for _ in range(sample_size):\n",
    "        r = random.randint(0, h-1)\n",
    "        c = random.randint(0, w-2)\n",
    "        px1 = gray[r, c]\n",
    "        px2 = gray[r, c+1]\n",
    "        samples_x.append(px1)\n",
    "        samples_y.append(px2)\n",
    "    plt.figure()\n",
    "    plt.scatter(samples_x, samples_y, s=2)\n",
    "    \n",
    "    plt.title(title)\n",
    "    plt.xlabel(\"Pixel (r,c)\")\n",
    "    plt.ylabel(\"Pixel (r,c+1)\")\n",
    "    if save_path:\n",
    "        plt.savefig(save_path, bbox_inches='tight')\n",
    "    plt.show()\n",
    "    plt.close()"
   ]
  },
  {
   "cell_type": "code",
   "execution_count": null,
   "metadata": {},
   "outputs": [],
   "source": []
  }
 ],
 "metadata": {
  "kernelspec": {
   "display_name": "base",
   "language": "python",
   "name": "python3"
  },
  "language_info": {
   "codemirror_mode": {
    "name": "ipython",
    "version": 3
   },
   "file_extension": ".py",
   "mimetype": "text/x-python",
   "name": "python",
   "nbconvert_exporter": "python",
   "pygments_lexer": "ipython3",
   "version": "3.12.7"
  }
 },
 "nbformat": 4,
 "nbformat_minor": 2
}
